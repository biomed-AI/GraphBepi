{
 "cells": [
  {
   "cell_type": "code",
   "execution_count": 1,
   "id": "2d8aa882-8722-4799-ab9a-61ff9fd8ec2c",
   "metadata": {},
   "outputs": [],
   "source": [
    "%load_ext autoreload\n",
    "%autoreload 2"
   ]
  },
  {
   "cell_type": "code",
   "execution_count": 2,
   "id": "37ee6526-ea0e-4587-938b-65ac61b2999d",
   "metadata": {},
   "outputs": [],
   "source": [
    "import os\n",
    "import time\n",
    "import torch\n",
    "import random\n",
    "import warnings\n",
    "import argparse\n",
    "import numpy as np\n",
    "import pandas as pd\n",
    "import pickle as pk\n",
    "import torch.nn as nn\n",
    "import torchmetrics as tm\n",
    "import pytorch_lightning as pl\n",
    "import torch.nn.functional as F\n",
    "from tool import METRICS\n",
    "from tqdm import tqdm,trange\n",
    "from model import GraphBepi\n",
    "from dataset import PDB,collate_fn,chain\n",
    "from collections import defaultdict\n",
    "from torch.utils.data import DataLoader,Dataset\n",
    "from pytorch_lightning.loggers import TensorBoardLogger\n",
    "from pytorch_lightning.callbacks import Callback,EarlyStopping,ModelCheckpoint\n",
    "warnings.simplefilter('ignore')"
   ]
  },
  {
   "cell_type": "code",
   "execution_count": 3,
   "id": "23d77fc0-2ca4-4886-a521-022c188d073c",
   "metadata": {},
   "outputs": [],
   "source": [
    "def seed_everything(seed=2022):\n",
    "    random.seed(seed)\n",
    "    os.environ['PYTHONHASHSEED'] = str(seed)\n",
    "    np.random.seed(seed)\n",
    "    torch.manual_seed(seed)\n",
    "    torch.cuda.manual_seed(seed)\n",
    "    torch.backends.cudnn.deterministic = True\n",
    "seed_everything(2022)"
   ]
  },
  {
   "cell_type": "code",
   "execution_count": 4,
   "id": "61dfdb3e-5d62-4f41-9ae6-7e8cb49552bc",
   "metadata": {},
   "outputs": [],
   "source": [
    "gpu=0\n",
    "fold=-1\n",
    "lr=1e-6\n",
    "batch=4\n",
    "epochs=300\n",
    "root='./data/BCE_633/'\n",
    "log_name=f'BCE_633_GraphBepi'"
   ]
  },
  {
   "cell_type": "code",
   "execution_count": 5,
   "id": "686387c4-acd9-411b-9a4a-811893bb40ba",
   "metadata": {},
   "outputs": [
    {
     "name": "stderr",
     "output_type": "stream",
     "text": [
      "100%|██████████████████████████████████████| 577/577 [00:07<00:00, 82.05it/s, chain=3lh2_V]\n",
      "0it [00:00, ?it/s]\n",
      "100%|████████████████████████████████████████| 56/56 [00:00<00:00, 83.24it/s, chain=7ue9_C]\n"
     ]
    }
   ],
   "source": [
    "trainset=PDB(mode='train',fold=fold,root=root)\n",
    "valset=PDB(mode='val',fold=fold,root=root)\n",
    "testset=PDB(mode='test',root=root)"
   ]
  },
  {
   "cell_type": "code",
   "execution_count": 6,
   "id": "d6eac4b8-ec60-44d7-bd4a-42f5855dfca4",
   "metadata": {},
   "outputs": [],
   "source": [
    "train_loader=DataLoader(trainset, batch, shuffle=True, collate_fn=collate_fn, drop_last=True)\n",
    "val_loader=DataLoader(valset, batch, shuffle=False, collate_fn=collate_fn)\n",
    "test_loader=DataLoader(testset, batch, shuffle=False, collate_fn=collate_fn)"
   ]
  },
  {
   "cell_type": "code",
   "execution_count": 7,
   "id": "f1552c69-1faf-4516-8311-4f3c2b46fadd",
   "metadata": {},
   "outputs": [
    {
     "name": "stderr",
     "output_type": "stream",
     "text": [
      "GPU available: True, used: True\n",
      "TPU available: False, using: 0 TPU cores\n",
      "IPU available: False, using: 0 IPUs\n",
      "HPU available: False, using: 0 HPUs\n"
     ]
    }
   ],
   "source": [
    "device='cpu' if gpu==-1 else f'cuda:{gpu}'\n",
    "metrics=METRICS(device)\n",
    "es=EarlyStopping('val_AUPRC',patience=40,mode='max')\n",
    "mc=ModelCheckpoint(\n",
    "    f'./model/{log_name}/',f'model_{fold}',\n",
    "    'val_AUPRC',\n",
    "    mode='max',\n",
    "    save_weights_only=True, \n",
    ")\n",
    "logger = TensorBoardLogger(\n",
    "    './log', \n",
    "    name=f'{log_name}_{fold}'\n",
    ")\n",
    "cb=[mc,es]\n",
    "trainer = pl.Trainer(\n",
    "    gpus=[gpu] if gpu!=-1 else None, \n",
    "    max_epochs=epochs, callbacks=cb,\n",
    "    logger=logger,check_val_every_n_epoch=1,\n",
    ")"
   ]
  },
  {
   "cell_type": "code",
   "execution_count": 8,
   "id": "661511f6-8d4c-487e-948f-417d9431feab",
   "metadata": {},
   "outputs": [],
   "source": [
    "model=GraphBepi(\n",
    "    feat_dim=2560,                     # esm2 representation dim\n",
    "    hidden_dim=256,                    # hidden representation dim\n",
    "    exfeat_dim=13,                     # dssp feature dim\n",
    "    edge_dim=51,                       # edge feature dim\n",
    "    augment_eps=0.05,                  # random noise rate\n",
    "    dropout=0.2,\n",
    "    lr=lr,                             # learning rate\n",
    "    metrics=metrics,                   # an implement to compute performance\n",
    "    result_path=f'./model/{log_name}', # path to save temporary result file of testset\n",
    ")"
   ]
  },
  {
   "cell_type": "code",
   "execution_count": 9,
   "id": "eabbdb05-073e-4990-9aec-b9e18a5d48b0",
   "metadata": {
    "scrolled": true,
    "tags": []
   },
   "outputs": [
    {
     "name": "stderr",
     "output_type": "stream",
     "text": [
      "LOCAL_RANK: 0 - CUDA_VISIBLE_DEVICES: [0,1,2,3]\n",
      "\n",
      "  | Name        | Type       | Params\n",
      "-------------------------------------------\n",
      "0 | loss_fn     | BCELoss    | 0     \n",
      "1 | W_v         | Linear     | 655 K \n",
      "2 | W_u1        | AE         | 69.9 K\n",
      "3 | edge_linear | Sequential | 3.3 K \n",
      "4 | gat         | EGAT       | 8.5 M \n",
      "5 | lstm1       | LSTM       | 1.2 M \n",
      "6 | lstm2       | LSTM       | 1.2 M \n",
      "7 | mlp         | Sequential | 262 K \n",
      "-------------------------------------------\n",
      "11.9 M    Trainable params\n",
      "0         Non-trainable params\n",
      "11.9 M    Total params\n",
      "47.536    Total estimated model params size (MB)\n"
     ]
    },
    {
     "name": "stdout",
     "output_type": "stream",
     "text": [
      "Epoch 299: 100%|██████████████████████████████████████| 158/158 \n",
       "[00:39<00:00, 3.97it/s, loss=0.305, v_num=1, train_auc_step=0.775, train_prc_step=0.416, val_loss=0.264, val_AUROC=0.765, val_AUPRC=0.261, val_mcc=0.248, val_f1=0.322, train_loss=0.290, train_auc_epoch=0.794, train_prc_epoch=0.353]\n"
     ]
    }
   ],
   "source": [
    "trainer.fit(model, train_loader, test_loader)"
   ]
  },
  {
   "cell_type": "code",
   "execution_count": 10,
   "id": "aa11f0f4-8c91-4930-be40-f4e12c77ee7b",
   "metadata": {},
   "outputs": [
    {
     "name": "stderr",
     "output_type": "stream",
     "text": [
      "GPU available: True, used: True\n",
      "TPU available: False, using: 0 TPU cores\n",
      "IPU available: False, using: 0 IPUs\n",
      "HPU available: False, using: 0 HPUs\n",
      "LOCAL_RANK: 0 - CUDA_VISIBLE_DEVICES: [0,1,2,3]\n"
     ]
    },
    {
     "data": {
      "application/vnd.jupyter.widget-view+json": {
       "model_id": "7c825f0977074c3d86248b3e9ad9e84a",
       "version_major": 2,
       "version_minor": 0
      },
      "text/plain": [
       "Testing: 0it [00:00, ?it/s]"
      ]
     },
     "metadata": {},
     "output_type": "display_data"
    },
    {
     "name": "stdout",
     "output_type": "stream",
     "text": [
      "────────────────────────────────────────────────────────────────────────────────────────────────────────────────────────\n",
      "       Test metric             DataLoader 0\n",
      "────────────────────────────────────────────────────────────────────────────────────────────────────────────────────────\n",
      "       test_AUPRC            0.26434326171875\n",
      "       test_AUROC            0.761267364025116\n",
      "        test_bacc           0.6568726897239685\n",
      "         test_f1            0.32405197620391846\n",
      "        test_loss           0.2643062174320221\n",
      "        test_mcc            0.24895137548446655\n",
      "     test_precision         0.2569386065006256\n",
      "       test_recall          0.4386216700077057\n",
      "     test_threshold         0.17629370093345642\n",
      "────────────────────────────────────────────────────────────────────────────────────────────────────────────────────────\n"
     ]
    }
   ],
   "source": [
    "model.load_state_dict(\n",
    "    torch.load(f'./model/{log_name}/model_{fold}.ckpt')['state_dict'],\n",
    ")\n",
    "trainer = pl.Trainer(gpus=[gpu],logger=None)\n",
    "result = trainer.test(model,test_loader)"
   ]
  },
  {
   "cell_type": "code",
   "execution_count": null,
   "id": "fe2f56d1-2d50-4e15-b8be-4944247263f4",
   "metadata": {},
   "outputs": [],
   "source": []
  }
 ],
 "metadata": {
  "kernelspec": {
   "display_name": "Python [conda env:Abs]",
   "language": "python",
   "name": "conda-env-Abs-py"
  },
  "language_info": {
   "codemirror_mode": {
    "name": "ipython",
    "version": 3
   },
   "file_extension": ".py",
   "mimetype": "text/x-python",
   "name": "python",
   "nbconvert_exporter": "python",
   "pygments_lexer": "ipython3",
   "version": "3.9.12"
  }
 },
 "nbformat": 4,
 "nbformat_minor": 5
}
