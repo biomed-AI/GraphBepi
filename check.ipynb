{
 "cells": [
  {
   "cell_type": "code",
   "execution_count": 1,
   "id": "2d8aa882-8722-4799-ab9a-61ff9fd8ec2c",
   "metadata": {},
   "outputs": [],
   "source": [
    "%load_ext autoreload\n",
    "%autoreload 2"
   ]
  },
  {
   "cell_type": "code",
   "execution_count": 2,
   "id": "37ee6526-ea0e-4587-938b-65ac61b2999d",
   "metadata": {},
   "outputs": [],
   "source": [
    "import os\n",
    "import time\n",
    "import torch\n",
    "import random\n",
    "import warnings\n",
    "import argparse\n",
    "import numpy as np\n",
    "import pandas as pd\n",
    "import pickle as pk\n",
    "import torch.nn as nn\n",
    "import torchmetrics as tm\n",
    "import pytorch_lightning as pl\n",
    "import torch.nn.functional as F\n",
    "from tool import METRICS\n",
    "from tqdm import tqdm,trange\n",
    "from model import GraphBepi\n",
    "from dataset import PDB,collate_fn,chain\n",
    "from collections import defaultdict\n",
    "from torch.utils.data import DataLoader,Dataset\n",
    "from pytorch_lightning.loggers import TensorBoardLogger\n",
    "from pytorch_lightning.callbacks import Callback,EarlyStopping,ModelCheckpoint\n",
    "warnings.simplefilter('ignore')"
   ]
  },
  {
   "cell_type": "code",
   "execution_count": 3,
   "id": "23d77fc0-2ca4-4886-a521-022c188d073c",
   "metadata": {},
   "outputs": [],
   "source": [
    "def seed_everything(seed=2022):\n",
    "    random.seed(seed)\n",
    "    os.environ['PYTHONHASHSEED'] = str(seed)\n",
    "    np.random.seed(seed)\n",
    "    torch.manual_seed(seed)\n",
    "    torch.cuda.manual_seed(seed)\n",
    "    torch.backends.cudnn.deterministic = True\n",
    "seed_everything(2022)"
   ]
  },
  {
   "cell_type": "code",
   "execution_count": 4,
   "id": "61dfdb3e-5d62-4f41-9ae6-7e8cb49552bc",
   "metadata": {},
   "outputs": [],
   "source": [
    "gpu=0\n",
    "fold=0\n",
    "lr=1e-6\n",
    "batch=4\n",
    "epochs=300\n",
    "root='./data/BCE_633/'\n",
    "log_name=f'BCE_633_GraphBepi'"
   ]
  },
  {
   "cell_type": "code",
   "execution_count": 5,
   "id": "686387c4-acd9-411b-9a4a-811893bb40ba",
   "metadata": {},
   "outputs": [
    {
     "name": "stderr",
     "output_type": "stream",
     "text": [
      "100%|████████████████████| 520/520 [00:05<00:00, 89.66it/s, chain=3lh2_V]\n",
      "100%|█████████████████████| 57/57 [00:00<00:00, 105.67it/s, chain=2qqn_A]\n",
      "100%|██████████████████████| 56/56 [00:00<00:00, 70.71it/s, chain=7ue9_C]\n"
     ]
    }
   ],
   "source": [
    "trainset=PDB(mode='train',fold=fold,root=root)\n",
    "valset=PDB(mode='val',fold=fold,root=root)\n",
    "testset=PDB(mode='test',fold=fold,root=root)"
   ]
  },
  {
   "cell_type": "code",
   "execution_count": 6,
   "id": "d6eac4b8-ec60-44d7-bd4a-42f5855dfca4",
   "metadata": {},
   "outputs": [],
   "source": [
    "train_loader=DataLoader(trainset, batch, shuffle=True, collate_fn=collate_fn, drop_last=True)\n",
    "val_loader=DataLoader(valset, batch, shuffle=False, collate_fn=collate_fn)\n",
    "test_loader=DataLoader(testset, batch, shuffle=False, collate_fn=collate_fn)"
   ]
  },
  {
   "cell_type": "code",
   "execution_count": 7,
   "id": "f1552c69-1faf-4516-8311-4f3c2b46fadd",
   "metadata": {},
   "outputs": [
    {
     "name": "stderr",
     "output_type": "stream",
     "text": [
      "GPU available: True, used: True\n",
      "TPU available: False, using: 0 TPU cores\n",
      "IPU available: False, using: 0 IPUs\n",
      "HPU available: False, using: 0 HPUs\n"
     ]
    }
   ],
   "source": [
    "device='cpu' if gpu==-1 else f'cuda:{gpu}'\n",
    "metrics=METRICS(device)\n",
    "es=EarlyStopping('val_AUPRC',patience=40,mode='max')\n",
    "mc=ModelCheckpoint(\n",
    "    f'./model/{log_name}/',f'model_{fold}',\n",
    "    'val_AUPRC',\n",
    "    mode='max',\n",
    "    save_weights_only=True, \n",
    ")\n",
    "logger = TensorBoardLogger(\n",
    "    './log', \n",
    "    name=f'{log_name}_{fold}'\n",
    ")\n",
    "cb=[mc,es]\n",
    "trainer = pl.Trainer(\n",
    "    gpus=[gpu] if gpu!=-1 else None, \n",
    "    max_epochs=epochs, callbacks=cb,\n",
    "    logger=logger,check_val_every_n_epoch=1,\n",
    ")"
   ]
  },
  {
   "cell_type": "code",
   "execution_count": 8,
   "id": "661511f6-8d4c-487e-948f-417d9431feab",
   "metadata": {},
   "outputs": [],
   "source": [
    "model=GraphBepi(\n",
    "    feat_dim=2560,                     # esm2 representation dim\n",
    "    hidden_dim=256,                    # hidden representation dim\n",
    "    exfeat_dim=13,                     # dssp feature dim\n",
    "    edge_dim=51,                       # edge feature dim\n",
    "    augment_eps=0.05,                  # random noise rate\n",
    "    dropout=0.2,\n",
    "    lr=lr,                             # learning rate\n",
    "    metrics=metrics,                   # an implement to compute performance\n",
    "    result_path=f'./model/{log_name}', # path to save temporary result file of testset\n",
    ")"
   ]
  },
  {
   "cell_type": "code",
   "execution_count": null,
   "id": "eabbdb05-073e-4990-9aec-b9e18a5d48b0",
   "metadata": {},
   "outputs": [],
   "source": [
    "trainer.fit(model, train_loader, val_loader)\n",
    "model.load_state_dict(\n",
    "    torch.load(f'./model/{log_name}/model_{args.fold}.ckpt')['state_dict'],\n",
    ")\n",
    "trainer = pl.Trainer(gpus=[args.gpu],logger=None)\n",
    "result = trainer.test(model,test_loader)"
   ]
  }
 ],
 "metadata": {
  "kernelspec": {
   "display_name": "Python [conda env:Abs]",
   "language": "python",
   "name": "conda-env-Abs-py"
  },
  "language_info": {
   "codemirror_mode": {
    "name": "ipython",
    "version": 3
   },
   "file_extension": ".py",
   "mimetype": "text/x-python",
   "name": "python",
   "nbconvert_exporter": "python",
   "pygments_lexer": "ipython3",
   "version": "3.9.12"
  }
 },
 "nbformat": 4,
 "nbformat_minor": 5
}
